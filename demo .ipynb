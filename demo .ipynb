{
 "cells": [
  {
   "cell_type": "code",
   "execution_count": 2,
   "id": "1cfef2dc",
   "metadata": {},
   "outputs": [],
   "source": [
    "# importing libraries \n",
    "from nltk.chat.util import Chat,reflections"
   ]
  },
  {
   "cell_type": "code",
   "execution_count": 3,
   "id": "694ee5c6",
   "metadata": {},
   "outputs": [],
   "source": [
    "#Creating a list of responses\n",
    "responses = [\n",
    "    \n",
    "    [\n",
    "        r\"(hi|hey|hello|hola|holla)(.*)\",\n",
    "        [\"Hello\", \"Hey there\",\"Hello user\", \"Hello friend\"]\n",
    "    ],\n",
    "    \n",
    "    [\n",
    "        r\"(.*) your name ?\",\n",
    "        [\"My name is Ninja and I'm a chatbot.\",]\n",
    "    ],\n",
    "\n",
    "\n",
    "    [\n",
    "        r\"(.*)help(.*) \",\n",
    "        [\"I can help you.\",]\n",
    "    ],\n",
    "\n",
    "\n",
    "    [\n",
    "        r\"how are you (.*) ?\",\n",
    "        [\"i am great !, i am fine., i am good.\"]\n",
    "    ],\n",
    "    [\n",
    "        r\"sorry (.*)\",\n",
    "        [\"Its alright\",\"Its OK, never mind that\",]\n",
    "          ],\n",
    "\n",
    "\n",
    "    [\n",
    "        r\"quit\",\n",
    "        [\"Bye. See you soon :) \",\"Have a great day. See you soon :) \",\"It was nice talking to you. See you soon :)\"]\n",
    "    ],\n",
    "    [\n",
    "        r\"(.*)\",\n",
    "        ['That is nice to hear']\n",
    "    ],\n",
    "]"
   ]
  },
  {
   "cell_type": "code",
   "execution_count": 4,
   "id": "2b0bf3f5",
   "metadata": {},
   "outputs": [
    {
     "name": "stdout",
     "output_type": "stream",
     "text": [
      "{'i am': 'you are', 'i was': 'you were', 'i': 'you', \"i'm\": 'you are', \"i'd\": 'you would', \"i've\": 'you have', \"i'll\": 'you will', 'my': 'your', 'you are': 'I am', 'you were': 'I was', \"you've\": 'I have', \"you'll\": 'I will', 'your': 'my', 'yours': 'mine', 'you': 'me', 'me': 'you'}\n"
     ]
    }
   ],
   "source": [
    "#Generating reflections\n",
    "print(reflections)"
   ]
  },
  {
   "cell_type": "code",
   "execution_count": 5,
   "id": "bc575fa9",
   "metadata": {},
   "outputs": [
    {
     "data": {
      "text/plain": [
       "{'i': 'you',\n",
       " 'your': 'my',\n",
       " 'yours': 'mine',\n",
       " 'i was': 'you were',\n",
       " 'you were': 'I was',\n",
       " \"i'll\": 'you will',\n",
       " \"you'll\": 'I will',\n",
       " 'you are': 'I am',\n",
       " \"you've\": 'I have',\n",
       " \"i'd\": 'you would'}"
      ]
     },
     "execution_count": 5,
     "metadata": {},
     "output_type": "execute_result"
    }
   ],
   "source": [
    "#Output\n",
    "{'i': 'you',\n",
    "'your': 'my',\n",
    "'yours': 'mine',\n",
    "'i was': 'you were',\n",
    "'you were': 'I was',\n",
    "\"i'll\": 'you will',\n",
    "\"you'll\": 'I will',\n",
    "'you are': 'I am',\n",
    "\"you've\": 'I have',\n",
    "\"i'd\": 'you would'\n",
    "}\n"
   ]
  },
  {
   "cell_type": "code",
   "execution_count": 6,
   "id": "41cc682b",
   "metadata": {},
   "outputs": [
    {
     "name": "stdout",
     "output_type": "stream",
     "text": [
      "Hi, I'm a bot, and my name is Ninja. \n",
      "Please type your query. Type quit to leave. \n"
     ]
    }
   ],
   "source": [
    "#default message\n",
    "print(\"Hi, I'm a bot, and my name is Ninja. \\nPlease type your query. Type quit to leave. \")"
   ]
  },
  {
   "cell_type": "code",
   "execution_count": 7,
   "id": "88548e5e",
   "metadata": {},
   "outputs": [],
   "source": [
    "#Creating Chat Bot\n",
    "chat = Chat(responses, reflections)"
   ]
  },
  {
   "cell_type": "code",
   "execution_count": 8,
   "id": "e0af62ab",
   "metadata": {},
   "outputs": [
    {
     "name": "stdout",
     "output_type": "stream",
     "text": [
      ">hi\n",
      "Hello friend\n",
      ">how r u \n",
      "That is nice to hear\n",
      ">how are you\n",
      "That is nice to hear\n",
      ">your name\n",
      "That is nice to hear\n",
      ">your name ?\n",
      "That is nice to hear\n",
      ">sorry\n",
      "That is nice to hear\n",
      ">quit\n",
      "Bye. See you soon :) \n"
     ]
    }
   ],
   "source": [
    "#To start a conversation with the chatbot\n",
    "chat.converse()"
   ]
  },
  {
   "cell_type": "code",
   "execution_count": null,
   "id": "15e27fb8",
   "metadata": {},
   "outputs": [],
   "source": []
  }
 ],
 "metadata": {
  "kernelspec": {
   "display_name": "Python 3 (ipykernel)",
   "language": "python",
   "name": "python3"
  },
  "language_info": {
   "codemirror_mode": {
    "name": "ipython",
    "version": 3
   },
   "file_extension": ".py",
   "mimetype": "text/x-python",
   "name": "python",
   "nbconvert_exporter": "python",
   "pygments_lexer": "ipython3",
   "version": "3.9.7"
  }
 },
 "nbformat": 4,
 "nbformat_minor": 5
}
